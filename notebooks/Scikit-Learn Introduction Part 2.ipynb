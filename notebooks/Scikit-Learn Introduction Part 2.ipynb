{
 "cells": [
  {
   "cell_type": "markdown",
   "metadata": {},
   "source": [
    "### Part 2: Training / Testing Splits and Model Performance Analysis"
   ]
  },
  {
   "cell_type": "code",
   "execution_count": 1,
   "metadata": {},
   "outputs": [],
   "source": [
    "import numpy as np\n",
    "import pandas as pd\n",
    "import pathlib\n",
    "import os\n",
    "import sklearn\n",
    "from warnings import simplefilter\n",
    "# ignore all future warnings / convergence warnings, !!! In a real workflow do not do this !!!\n",
    "simplefilter(action='ignore', category=FutureWarning)\n",
    "simplefilter(action='ignore', category=sklearn.exceptions.ConvergenceWarning)\n",
    "from jupyterthemes import jtplot # Ignore this - specific to my dark theme plugin\n",
    "jtplot.style(theme='onedork')  # Ignore this - specific to my dark theme plugin\n",
    "jtplot.style(ticks=True, grid=True, figsize=(10, 8)) # Ignore this - specific to my dark theme plugin\n",
    "# The below is Jupyter \"Cell Magic\" that allows the matplotlib charts to render in notebook.\n",
    "import matplotlib as mpl\n",
    "from matplotlib import pyplot as plt\n",
    "%matplotlib inline"
   ]
  },
  {
   "cell_type": "markdown",
   "metadata": {},
   "source": [
    "#### Dataset\n",
    "We will be using the following as our example dataset:\n",
    "* https://archive.ics.uci.edu/ml/datasets/Breast+Cancer+Wisconsin+%28Diagnostic%29\n",
    "The data is hand extracted features about questionable masses found in breast tissue.\n",
    "the goal is classify the masses as malignent or benign. See the link for more info."
   ]
  },
  {
   "cell_type": "code",
   "execution_count": 2,
   "metadata": {},
   "outputs": [
    {
     "name": "stdout",
     "output_type": "stream",
     "text": [
      "(569, 32)\n"
     ]
    },
    {
     "data": {
      "text/html": [
       "<div>\n",
       "<style scoped>\n",
       "    .dataframe tbody tr th:only-of-type {\n",
       "        vertical-align: middle;\n",
       "    }\n",
       "\n",
       "    .dataframe tbody tr th {\n",
       "        vertical-align: top;\n",
       "    }\n",
       "\n",
       "    .dataframe thead th {\n",
       "        text-align: right;\n",
       "    }\n",
       "</style>\n",
       "<table border=\"1\" class=\"dataframe\">\n",
       "  <thead>\n",
       "    <tr style=\"text-align: right;\">\n",
       "      <th></th>\n",
       "      <th>ID</th>\n",
       "      <th>Label</th>\n",
       "      <th>mean - radius</th>\n",
       "      <th>se - radius</th>\n",
       "      <th>worst - radius</th>\n",
       "      <th>mean - texture</th>\n",
       "      <th>se - texture</th>\n",
       "      <th>worst - texture</th>\n",
       "      <th>mean - perimeter</th>\n",
       "      <th>se - perimeter</th>\n",
       "      <th>...</th>\n",
       "      <th>worst - concavity</th>\n",
       "      <th>mean - concave points</th>\n",
       "      <th>se - concave points</th>\n",
       "      <th>worst - concave points</th>\n",
       "      <th>mean - symmetry</th>\n",
       "      <th>se - symmetry</th>\n",
       "      <th>worst - symmetry</th>\n",
       "      <th>mean - fractal-dimension</th>\n",
       "      <th>se - fractal-dimension</th>\n",
       "      <th>worst - fractal-dimension</th>\n",
       "    </tr>\n",
       "  </thead>\n",
       "  <tbody>\n",
       "    <tr>\n",
       "      <th>0</th>\n",
       "      <td>842302</td>\n",
       "      <td>M</td>\n",
       "      <td>17.99</td>\n",
       "      <td>10.38</td>\n",
       "      <td>122.8</td>\n",
       "      <td>1001</td>\n",
       "      <td>0.1184</td>\n",
       "      <td>0.2776</td>\n",
       "      <td>0.3001</td>\n",
       "      <td>0.1471</td>\n",
       "      <td>...</td>\n",
       "      <td>25.38</td>\n",
       "      <td>17.33</td>\n",
       "      <td>184.6</td>\n",
       "      <td>2019</td>\n",
       "      <td>0.1622</td>\n",
       "      <td>0.6656</td>\n",
       "      <td>0.7119</td>\n",
       "      <td>0.2654</td>\n",
       "      <td>0.4601</td>\n",
       "      <td>0.1189</td>\n",
       "    </tr>\n",
       "    <tr>\n",
       "      <th>1</th>\n",
       "      <td>842517</td>\n",
       "      <td>M</td>\n",
       "      <td>20.57</td>\n",
       "      <td>17.77</td>\n",
       "      <td>132.9</td>\n",
       "      <td>1326</td>\n",
       "      <td>0.08474</td>\n",
       "      <td>0.07864</td>\n",
       "      <td>0.0869</td>\n",
       "      <td>0.07017</td>\n",
       "      <td>...</td>\n",
       "      <td>24.99</td>\n",
       "      <td>23.41</td>\n",
       "      <td>158.8</td>\n",
       "      <td>1956</td>\n",
       "      <td>0.1238</td>\n",
       "      <td>0.1866</td>\n",
       "      <td>0.2416</td>\n",
       "      <td>0.186</td>\n",
       "      <td>0.275</td>\n",
       "      <td>0.08902</td>\n",
       "    </tr>\n",
       "    <tr>\n",
       "      <th>2</th>\n",
       "      <td>84300903</td>\n",
       "      <td>M</td>\n",
       "      <td>19.69</td>\n",
       "      <td>21.25</td>\n",
       "      <td>130</td>\n",
       "      <td>1203</td>\n",
       "      <td>0.1096</td>\n",
       "      <td>0.1599</td>\n",
       "      <td>0.1974</td>\n",
       "      <td>0.1279</td>\n",
       "      <td>...</td>\n",
       "      <td>23.57</td>\n",
       "      <td>25.53</td>\n",
       "      <td>152.5</td>\n",
       "      <td>1709</td>\n",
       "      <td>0.1444</td>\n",
       "      <td>0.4245</td>\n",
       "      <td>0.4504</td>\n",
       "      <td>0.243</td>\n",
       "      <td>0.3613</td>\n",
       "      <td>0.08758</td>\n",
       "    </tr>\n",
       "    <tr>\n",
       "      <th>3</th>\n",
       "      <td>84348301</td>\n",
       "      <td>M</td>\n",
       "      <td>11.42</td>\n",
       "      <td>20.38</td>\n",
       "      <td>77.58</td>\n",
       "      <td>386.1</td>\n",
       "      <td>0.1425</td>\n",
       "      <td>0.2839</td>\n",
       "      <td>0.2414</td>\n",
       "      <td>0.1052</td>\n",
       "      <td>...</td>\n",
       "      <td>14.91</td>\n",
       "      <td>26.5</td>\n",
       "      <td>98.87</td>\n",
       "      <td>567.7</td>\n",
       "      <td>0.2098</td>\n",
       "      <td>0.8663</td>\n",
       "      <td>0.6869</td>\n",
       "      <td>0.2575</td>\n",
       "      <td>0.6638</td>\n",
       "      <td>0.173</td>\n",
       "    </tr>\n",
       "    <tr>\n",
       "      <th>4</th>\n",
       "      <td>84358402</td>\n",
       "      <td>M</td>\n",
       "      <td>20.29</td>\n",
       "      <td>14.34</td>\n",
       "      <td>135.1</td>\n",
       "      <td>1297</td>\n",
       "      <td>0.1003</td>\n",
       "      <td>0.1328</td>\n",
       "      <td>0.198</td>\n",
       "      <td>0.1043</td>\n",
       "      <td>...</td>\n",
       "      <td>22.54</td>\n",
       "      <td>16.67</td>\n",
       "      <td>152.2</td>\n",
       "      <td>1575</td>\n",
       "      <td>0.1374</td>\n",
       "      <td>0.205</td>\n",
       "      <td>0.4</td>\n",
       "      <td>0.1625</td>\n",
       "      <td>0.2364</td>\n",
       "      <td>0.07678</td>\n",
       "    </tr>\n",
       "  </tbody>\n",
       "</table>\n",
       "<p>5 rows × 32 columns</p>\n",
       "</div>"
      ],
      "text/plain": [
       "         ID Label mean - radius se - radius worst - radius mean - texture  \\\n",
       "0    842302     M         17.99       10.38          122.8           1001   \n",
       "1    842517     M         20.57       17.77          132.9           1326   \n",
       "2  84300903     M         19.69       21.25            130           1203   \n",
       "3  84348301     M         11.42       20.38          77.58          386.1   \n",
       "4  84358402     M         20.29       14.34          135.1           1297   \n",
       "\n",
       "  se - texture worst - texture mean - perimeter se - perimeter  ...  \\\n",
       "0       0.1184          0.2776           0.3001         0.1471  ...   \n",
       "1      0.08474         0.07864           0.0869        0.07017  ...   \n",
       "2       0.1096          0.1599           0.1974         0.1279  ...   \n",
       "3       0.1425          0.2839           0.2414         0.1052  ...   \n",
       "4       0.1003          0.1328            0.198         0.1043  ...   \n",
       "\n",
       "  worst - concavity mean - concave points se - concave points  \\\n",
       "0             25.38                 17.33               184.6   \n",
       "1             24.99                 23.41               158.8   \n",
       "2             23.57                 25.53               152.5   \n",
       "3             14.91                  26.5               98.87   \n",
       "4             22.54                 16.67               152.2   \n",
       "\n",
       "  worst - concave points mean - symmetry se - symmetry worst - symmetry  \\\n",
       "0                   2019          0.1622        0.6656           0.7119   \n",
       "1                   1956          0.1238        0.1866           0.2416   \n",
       "2                   1709          0.1444        0.4245           0.4504   \n",
       "3                  567.7          0.2098        0.8663           0.6869   \n",
       "4                   1575          0.1374         0.205              0.4   \n",
       "\n",
       "  mean - fractal-dimension se - fractal-dimension worst - fractal-dimension  \n",
       "0                   0.2654                 0.4601                    0.1189  \n",
       "1                    0.186                  0.275                   0.08902  \n",
       "2                    0.243                 0.3613                   0.08758  \n",
       "3                   0.2575                 0.6638                     0.173  \n",
       "4                   0.1625                 0.2364                   0.07678  \n",
       "\n",
       "[5 rows x 32 columns]"
      ]
     },
     "execution_count": 2,
     "metadata": {},
     "output_type": "execute_result"
    }
   ],
   "source": [
    "# Load in the dataset from the data diretory of this repo.\n",
    "data_fp = pathlib.Path(os.getcwd()).parent / 'data' / 'breast_cancer' / 'wdbc.DATA'\n",
    "raw_text = open(data_fp, 'r').read()\n",
    "data_cols = ['radius', 'texture', 'perimeter', 'area',\n",
    "        'smoothness', 'compactness', 'concavity',\n",
    "        'concave points', 'symmetry', 'fractal-dimension']\n",
    "cols = ['ID', 'Label'] + [f\"{mod} - {dc}\" for dc in data_cols for mod in\n",
    "                          ['mean', 'se', 'worst']]\n",
    "data = []\n",
    "for line in raw_text.split('\\n'):\n",
    "    if line:\n",
    "        data.append({col: line.split(',')[k] for k, col in enumerate(cols)})\n",
    "df = pd.DataFrame(data)\n",
    "print(df.shape)\n",
    "df.head()"
   ]
  },
  {
   "cell_type": "code",
   "execution_count": 3,
   "metadata": {},
   "outputs": [
    {
     "data": {
      "text/html": [
       "<div>\n",
       "<style scoped>\n",
       "    .dataframe tbody tr th:only-of-type {\n",
       "        vertical-align: middle;\n",
       "    }\n",
       "\n",
       "    .dataframe tbody tr th {\n",
       "        vertical-align: top;\n",
       "    }\n",
       "\n",
       "    .dataframe thead th {\n",
       "        text-align: right;\n",
       "    }\n",
       "</style>\n",
       "<table border=\"1\" class=\"dataframe\">\n",
       "  <thead>\n",
       "    <tr style=\"text-align: right;\">\n",
       "      <th></th>\n",
       "      <th>Label</th>\n",
       "    </tr>\n",
       "  </thead>\n",
       "  <tbody>\n",
       "    <tr>\n",
       "      <th>B</th>\n",
       "      <td>357</td>\n",
       "    </tr>\n",
       "    <tr>\n",
       "      <th>M</th>\n",
       "      <td>212</td>\n",
       "    </tr>\n",
       "  </tbody>\n",
       "</table>\n",
       "</div>"
      ],
      "text/plain": [
       "   Label\n",
       "B    357\n",
       "M    212"
      ]
     },
     "execution_count": 3,
     "metadata": {},
     "output_type": "execute_result"
    }
   ],
   "source": [
    "# Let's look at the label distribution\n",
    "pd.DataFrame(df['Label'].value_counts())"
   ]
  },
  {
   "cell_type": "markdown",
   "metadata": {},
   "source": [
    "Normally we'd also want to do some Exploratory Data Analysis (EDA) and Visualizations to see\n",
    "if there are any obvious relationships, or useless data. Since this intro is more focused on \n",
    "the core mechanics of sklearn I'll skip this for now and assume that since this data is hand\n",
    "created and fairly low-dimensional that we can assume it is all predictive."
   ]
  },
  {
   "cell_type": "code",
   "execution_count": 4,
   "metadata": {},
   "outputs": [],
   "source": [
    "# First we will split our data into training and testing sets\n",
    "# We will use and 80 / 20 % split for our training / test sets.\n",
    "from sklearn.model_selection import train_test_split\n",
    "X = df.values[:, 2: ]\n",
    "# Sklearn requires integer labels, so we'll convert then using\n",
    "label_enc = {'M': 1, 'B': 0}\n",
    "y = df['Label'].apply(lambda l: label_enc[l]).values\n",
    "X_train, X_test, y_train, y_test = train_test_split(X, y, test_size=0.2, random_state=2020)\n",
    "# The train_test_split functtion will automatically randomly partitiion ouor data for us\n",
    "# The test_size parameter can either be a float in (0, 1), representing the fraction of\n",
    "# data to hold out for test set, or an integer representing the absolute number of samples.\n",
    "# It's always a good idea to set a random state / seed so that any results obtained are\n",
    "# easily repeatable."
   ]
  },
  {
   "cell_type": "code",
   "execution_count": 5,
   "metadata": {},
   "outputs": [],
   "source": [
    "# Same classifiers as from Part 1, again we will not change any hyperparameters.\n",
    "from sklearn.svm import LinearSVC   # Linear Support Vector Machine (SVM) Classifier\n",
    "from sklearn.linear_model import LogisticRegression  # Logisitc Regression Classifier\n",
    "from sklearn.naive_bayes import GaussianNB  # Gaussian Naive Bayes\n",
    "from sklearn.tree import DecisionTreeClassifier # Simple Decision Tree Classifier\n",
    "from sklearn.ensemble import RandomForestClassifier # Random Forest Classifier\n",
    "from sklearn.neural_network import MLPClassifier # Multilayer Perceptron Algorithm\n",
    "\n",
    "clf_svc = LinearSVC()\n",
    "clf_lr = LogisticRegression()\n",
    "clf_nb = GaussianNB()\n",
    "clf_dt = DecisionTreeClassifier()\n",
    "clf_rf = RandomForestClassifier()\n",
    "clf_mlp = MLPClassifier()\n",
    "\n",
    "# We will make a dictionary of these classifiers to allow us to loop through them\n",
    "classifiers = {\n",
    "    'linear svc': clf_svc,\n",
    "    'logistic regression': clf_lr,\n",
    "    'gaussian naive bayes': clf_nb,\n",
    "    'decision tree': clf_dt,\n",
    "    'random forest': clf_rf,\n",
    "    'multilayer perceptron': clf_mlp\n",
    "}\n",
    "\n",
    "# Train all the classifiers on the test data set\n",
    "for clf in classifiers:\n",
    "    classifiers[clf].fit(X_train, y_train)"
   ]
  },
  {
   "cell_type": "markdown",
   "metadata": {},
   "source": [
    "Now that our classifiers have been trained on training set, we will look how well they\n",
    "perform on the independent test set. We will look at a few standard metrics:\n",
    "* accuracy\n",
    "* precision\n",
    "* recall\n",
    "* confusion matrix\n",
    "\n",
    "Sklearn accuracy metric functions usually require the input of two arrays of the same shape,\n",
    "y_true and y_pred, consisting of the true labels and then those predicted by your model."
   ]
  },
  {
   "cell_type": "code",
   "execution_count": 6,
   "metadata": {},
   "outputs": [],
   "source": [
    "from sklearn.metrics import accuracy_score, f1_score, recall_score\n",
    "from sklearn.metrics import precision_score, confusion_matrix\n",
    "# We will write a function that takes a classifier which has already been fit and then computes\n",
    "# all of the relevent accuracy metrics\n",
    "def model_performance_overview(clf, X_test, y_test):\n",
    "    preds = clf.predict(X_test)\n",
    "    print(f\"Accuracy score: {accuracy_score(y_test, preds)}\")\n",
    "    print(f\"Precision score: {precision_score(y_test, preds)}\")\n",
    "    print(f\"Recall score: {recall_score(y_test, preds)}\")\n",
    "    print(f\"f1 score: {f1_score(y_test, preds)}\")\n",
    "    print(\"Confusion Matrix\")\n",
    "    print(confusion_matrix(y_test, preds))"
   ]
  },
  {
   "cell_type": "code",
   "execution_count": 7,
   "metadata": {
    "scrolled": true
   },
   "outputs": [
    {
     "name": "stdout",
     "output_type": "stream",
     "text": [
      "linear svc\n",
      "================================\n",
      "Accuracy score: 0.8771929824561403\n",
      "Precision score: 1.0\n",
      "Recall score: 0.7083333333333334\n",
      "f1 score: 0.8292682926829268\n",
      "Confusion Matrix\n",
      "[[66  0]\n",
      " [14 34]]\n",
      "================================\n",
      "logistic regression\n",
      "================================\n",
      "Accuracy score: 0.9736842105263158\n",
      "Precision score: 0.9787234042553191\n",
      "Recall score: 0.9583333333333334\n",
      "f1 score: 0.968421052631579\n",
      "Confusion Matrix\n",
      "[[65  1]\n",
      " [ 2 46]]\n",
      "================================\n",
      "gaussian naive bayes\n",
      "================================\n",
      "Accuracy score: 0.9736842105263158\n",
      "Precision score: 1.0\n",
      "Recall score: 0.9375\n",
      "f1 score: 0.967741935483871\n",
      "Confusion Matrix\n",
      "[[66  0]\n",
      " [ 3 45]]\n",
      "================================\n",
      "decision tree\n",
      "================================\n",
      "Accuracy score: 0.956140350877193\n",
      "Precision score: 0.9387755102040817\n",
      "Recall score: 0.9583333333333334\n",
      "f1 score: 0.9484536082474228\n",
      "Confusion Matrix\n",
      "[[63  3]\n",
      " [ 2 46]]\n",
      "================================\n",
      "random forest\n",
      "================================\n",
      "Accuracy score: 0.9736842105263158\n",
      "Precision score: 0.9591836734693877\n",
      "Recall score: 0.9791666666666666\n",
      "f1 score: 0.9690721649484536\n",
      "Confusion Matrix\n",
      "[[64  2]\n",
      " [ 1 47]]\n",
      "================================\n",
      "multilayer perceptron\n",
      "================================\n",
      "Accuracy score: 0.956140350877193\n",
      "Precision score: 0.9777777777777777\n",
      "Recall score: 0.9166666666666666\n",
      "f1 score: 0.946236559139785\n",
      "Confusion Matrix\n",
      "[[65  1]\n",
      " [ 4 44]]\n",
      "================================\n"
     ]
    }
   ],
   "source": [
    "for clf in classifiers:\n",
    "    print(clf)\n",
    "    print('=' * 32)\n",
    "    model_performance_overview(classifiers[clf], X_test, y_test)\n",
    "    print('=' * 32)"
   ]
  },
  {
   "cell_type": "markdown",
   "metadata": {},
   "source": [
    "All of the models perform fairly well, so how can we make resonable comparisons?\n",
    "Since the training and testing sets were chosen arbitrarily differences in accuracy\n",
    "could be due to random chance. To analyze this we will use two different types of \n",
    "Cross Validation:\n",
    "* k-Fold Cross Validation\n",
    "* Monte Carlo Cross Validation\n",
    "\n",
    "See a discussion about these two here:\n",
    "https://stats.stackexchange.com/questions/51416/k-fold-vs-monte-carlo-cross-validation"
   ]
  },
  {
   "cell_type": "code",
   "execution_count": 8,
   "metadata": {
    "scrolled": true
   },
   "outputs": [
    {
     "name": "stdout",
     "output_type": "stream",
     "text": [
      "linear svc\n",
      "f1 - average over 5 folds: 0.8176613616268789\n",
      "f1 - standard deviation over 5 folds: 0.09063785609451715\n",
      "f1 - minimum over 5 folds: 0.6666666666666666\n",
      "f1 - maximum over 5 folds: 0.923076923076923\n",
      "================================\n",
      "logistic regression\n",
      "f1 - average over 5 folds: 0.9323155745907217\n",
      "f1 - standard deviation over 5 folds: 0.023574071251342685\n",
      "f1 - minimum over 5 folds: 0.9\n",
      "f1 - maximum over 5 folds: 0.963855421686747\n",
      "================================\n",
      "gaussian naive bayes\n",
      "f1 - average over 5 folds: 0.9174975165761105\n",
      "f1 - standard deviation over 5 folds: 0.022091902125486028\n",
      "f1 - minimum over 5 folds: 0.8860759493670887\n",
      "f1 - maximum over 5 folds: 0.9397590361445782\n",
      "================================\n",
      "decision tree\n",
      "f1 - average over 5 folds: 0.8807367681314429\n",
      "f1 - standard deviation over 5 folds: 0.017983854422559318\n",
      "f1 - minimum over 5 folds: 0.8604651162790697\n",
      "f1 - maximum over 5 folds: 0.9135802469135802\n",
      "================================\n",
      "random forest\n",
      "f1 - average over 5 folds: 0.9430400224717989\n",
      "f1 - standard deviation over 5 folds: 0.03588771924321434\n",
      "f1 - minimum over 5 folds: 0.896551724137931\n",
      "f1 - maximum over 5 folds: 0.9767441860465117\n",
      "================================\n",
      "multilayer perceptron\n",
      "f1 - average over 5 folds: 0.9028092045687721\n",
      "f1 - standard deviation over 5 folds: 0.02091131076631963\n",
      "f1 - minimum over 5 folds: 0.8780487804878048\n",
      "f1 - maximum over 5 folds: 0.9367088607594937\n",
      "================================\n"
     ]
    }
   ],
   "source": [
    "# Here we'll do 5-fold cross validation for just f1 score\n",
    "from sklearn.model_selection import cross_val_score\n",
    "cv_res = {}\n",
    "for clf in classifiers:\n",
    "    cv_res[clf] = np.array(cross_val_score(classifiers[clf], X, y,\n",
    "                                              cv=5, scoring='f1'))\n",
    "metric = 'f1'\n",
    "for clf in cv_res:\n",
    "    print(clf)\n",
    "    print(f\"{metric} - average over 5 folds: {cv_res[clf].mean()}\")\n",
    "    print(f\"{metric} - standard deviation over 5 folds: {cv_res[clf].std()}\")\n",
    "    print(f\"{metric} - minimum over 5 folds: {cv_res[clf].min()}\")\n",
    "    print(f\"{metric} - maximum over 5 folds: {cv_res[clf].max()}\")\n",
    "    print('=' * 32)"
   ]
  },
  {
   "cell_type": "code",
   "execution_count": 9,
   "metadata": {},
   "outputs": [
    {
     "data": {
      "application/vnd.jupyter.widget-view+json": {
       "model_id": "61b9491083b2459d918245b16f447917",
       "version_major": 2,
       "version_minor": 0
      },
      "text/plain": [
       "A Jupyter Widget"
      ]
     },
     "metadata": {},
     "output_type": "display_data"
    },
    {
     "name": "stdout",
     "output_type": "stream",
     "text": [
      "\n"
     ]
    }
   ],
   "source": [
    "# We'll now run a 1000 fold Monte Carlo Cross Validation, this can take a little bit of time\n",
    "# and is only really useful when absolute highest performance is paramount.\n",
    "from sklearn.model_selection import ShuffleSplit\n",
    "from tqdm import tqdm_notebook as tqdm\n",
    "mc_cv_splits = ShuffleSplit(n_splits=1000,\n",
    "                            test_size=0.2,\n",
    "                            random_state=2020\n",
    "                           )\n",
    "mccv_results = {clf: np.zeros(1000) for clf in classifiers}\n",
    "for k, split in tqdm(enumerate(mc_cv_splits.split(X)), total=1000): \n",
    "    train_ix, test_ix = split[0], split[1]\n",
    "    for clf in classifiers:\n",
    "        classifiers[clf].fit(X[train_ix], y[train_ix])\n",
    "        mccv_results[clf][k] = f1_score(y[test_ix], classifiers[clf].predict(X[test_ix]))"
   ]
  },
  {
   "cell_type": "code",
   "execution_count": 10,
   "metadata": {},
   "outputs": [
    {
     "data": {
      "text/plain": [
       "<matplotlib.legend.Legend at 0x1359606c908>"
      ]
     },
     "execution_count": 10,
     "metadata": {},
     "output_type": "execute_result"
    },
    {
     "data": {
      "image/png": "[encoded data removed]",
      "text/plain": [
       "<matplotlib.figure.Figure at 0x13595f21828>"
      ]
     },
     "metadata": {
      "needs_background": "dark"
     },
     "output_type": "display_data"
    }
   ],
   "source": [
    "import seaborn as sns\n",
    "colors = ['black', 'blue', 'red', 'green', 'cyan', 'orange']\n",
    "plt.figure(figsize=(10,6))\n",
    "clf_list = list(classifiers)\n",
    "g = sns.kdeplot(mccv_results[clf_list[0]], shade=True, color=colors[0])\n",
    "for k, clf in enumerate(clf_list[1:]):\n",
    "    sns.kdeplot(mccv_results[clf], shade=True, color=colors[k+1])\n",
    "g.set(xlim=(0.75,1))\n",
    "g.legend(clf_list, loc=2)"
   ]
  },
  {
   "cell_type": "code",
   "execution_count": null,
   "metadata": {},
   "outputs": [],
   "source": []
  }
 ],
 "metadata": {
  "kernelspec": {
   "display_name": "Python 3",
   "language": "python",
   "name": "python3"
  },
  "language_info": {
   "codemirror_mode": {
    "name": "ipython",
    "version": 3
   },
   "file_extension": ".py",
   "mimetype": "text/x-python",
   "name": "python",
   "nbconvert_exporter": "python",
   "pygments_lexer": "ipython3",
   "version": "3.6.3"
  }
 },
 "nbformat": 4,
 "nbformat_minor": 2
}
